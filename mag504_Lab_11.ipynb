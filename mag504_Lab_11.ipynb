{
  "cells": [
    {
      "cell_type": "markdown",
      "metadata": {
        "id": "soAir2Al9IFe"
      },
      "source": [
        "# Lab Exercise: SQL Analysis with Polars\n",
        "\n",
        "In this lab, you'll practice SQL queries using Polars' built-in SQL functionality. Complete each exercise by writing the appropriate SQL query."
      ]
    },
    {
      "cell_type": "code",
      "execution_count": 8,
      "metadata": {
        "id": "ar2U0xtQ9IFf",
        "colab": {
          "base_uri": "https://localhost:8080/"
        },
        "outputId": "ef577330-84c0-475b-a049-caf78f4bd9d0"
      },
      "outputs": [
        {
          "output_type": "stream",
          "name": "stdout",
          "text": [
            "Setup complete! Tables available:\n",
            "shape: (5, 1)\n",
            "┌──────────┐\n",
            "│ name     │\n",
            "│ ---      │\n",
            "│ str      │\n",
            "╞══════════╡\n",
            "│ airlines │\n",
            "│ airports │\n",
            "│ flights  │\n",
            "│ planes   │\n",
            "│ weather  │\n",
            "└──────────┘\n"
          ]
        }
      ],
      "source": [
        "# Setup - Run this cell first\n",
        "import polars as pl\n",
        "\n",
        "# Load data\n",
        "airlines = pl.read_csv('https://raw.githubusercontent.com/philhetzel/opan5510-class11/refs/heads/main/data/nyc_airlines.csv', null_values='NA')\n",
        "airports = pl.read_csv('https://raw.githubusercontent.com/philhetzel/opan5510-class11/refs/heads/main/data/nyc_airports.csv', null_values='NA')\n",
        "flights = pl.read_csv('https://raw.githubusercontent.com/philhetzel/opan5510-class11/refs/heads/main/data/nyc_flights.csv', null_values='NA')\n",
        "planes = pl.read_csv('https://raw.githubusercontent.com/philhetzel/opan5510-class11/refs/heads/main/data/nyc_planes.csv', null_values='NA')\n",
        "weather = pl.read_csv('https://raw.githubusercontent.com/philhetzel/opan5510-class11/refs/heads/main/data/nyc_weather.csv', null_values='NA', schema_overrides={'precip': pl.Float64, 'visib': pl.Float64})\n",
        "\n",
        "flights = flights.with_columns(pl.col(\"time_hour\").str.strptime(pl.Datetime))\n",
        "weather = weather.with_columns(pl.col(\"time_hour\").str.strptime(pl.Datetime))\n",
        "\n",
        "# Create SQL context\n",
        "ctx = pl.SQLContext(\n",
        "    airlines=airlines,\n",
        "    airports=airports,\n",
        "    flights=flights,\n",
        "    planes=planes,\n",
        "    weather=weather,\n",
        "    eager=True\n",
        ")\n",
        "\n",
        "print(\"Setup complete! Tables available:\")\n",
        "print(ctx.execute(\"SHOW TABLES\"))"
      ]
    },
    {
      "cell_type": "markdown",
      "metadata": {
        "id": "slfOfynj9IFg"
      },
      "source": [
        "## Exercise 1: Basic Queries\n",
        "\n",
        "### 1.1 Find all unique carriers in the airlines table"
      ]
    },
    {
      "cell_type": "code",
      "execution_count": 21,
      "metadata": {
        "id": "RD-805xO9IFg",
        "colab": {
          "base_uri": "https://localhost:8080/"
        },
        "outputId": "da7e0870-2e04-437a-b556-14f5268c15b9"
      },
      "outputs": [
        {
          "output_type": "stream",
          "name": "stdout",
          "text": [
            "shape: (16, 1)\n",
            "┌─────────┐\n",
            "│ carrier │\n",
            "│ ---     │\n",
            "│ str     │\n",
            "╞═════════╡\n",
            "│ 9E      │\n",
            "│ AA      │\n",
            "│ AS      │\n",
            "│ B6      │\n",
            "│ DL      │\n",
            "│ …       │\n",
            "│ UA      │\n",
            "│ US      │\n",
            "│ VX      │\n",
            "│ WN      │\n",
            "│ YV      │\n",
            "└─────────┘\n"
          ]
        }
      ],
      "source": [
        "# Write your SQL query here\n",
        "result = ctx.execute(\"\"\"\n",
        "SELECT DISTINCT carrier\n",
        "FROM airlines\n",
        "\"\"\")\n",
        "\n",
        "print(result)"
      ]
    },
    {
      "cell_type": "markdown",
      "metadata": {
        "id": "XvGgrCGI9IFg"
      },
      "source": [
        "### 1.2 Find the top 10 destinations by number of flights"
      ]
    },
    {
      "cell_type": "code",
      "execution_count": 23,
      "metadata": {
        "id": "BZFszW4D9IFg",
        "colab": {
          "base_uri": "https://localhost:8080/"
        },
        "outputId": "70da0655-a7a8-497e-81e7-cf89c4cb3e1b"
      },
      "outputs": [
        {
          "output_type": "stream",
          "name": "stdout",
          "text": [
            "shape: (10, 2)\n",
            "┌──────┬──────────────┐\n",
            "│ dest ┆ flight_count │\n",
            "│ ---  ┆ ---          │\n",
            "│ str  ┆ u32          │\n",
            "╞══════╪══════════════╡\n",
            "│ ORD  ┆ 17283        │\n",
            "│ ATL  ┆ 17215        │\n",
            "│ LAX  ┆ 16174        │\n",
            "│ BOS  ┆ 15508        │\n",
            "│ MCO  ┆ 14082        │\n",
            "│ CLT  ┆ 14064        │\n",
            "│ SFO  ┆ 13331        │\n",
            "│ FLL  ┆ 12055        │\n",
            "│ MIA  ┆ 11728        │\n",
            "│ DCA  ┆ 9705         │\n",
            "└──────┴──────────────┘\n"
          ]
        }
      ],
      "source": [
        "# Write your SQL query here\n",
        "result = ctx.execute(\"\"\"\n",
        "SELECT dest, COUNT(*) AS flight_count\n",
        "FROM flights\n",
        "GROUP BY dest\n",
        "ORDER BY flight_count DESC\n",
        "LIMIT 10\n",
        "\"\"\")\n",
        "\n",
        "print(result)"
      ]
    },
    {
      "cell_type": "markdown",
      "metadata": {
        "id": "OMuSlfsn9IFg"
      },
      "source": [
        "### 1.3 Find all flights that departed more than 2 hours late (120 minutes)"
      ]
    },
    {
      "cell_type": "code",
      "execution_count": 24,
      "metadata": {
        "id": "9idJbndF9IFg",
        "colab": {
          "base_uri": "https://localhost:8080/"
        },
        "outputId": "35e9bdb2-f958-41f8-a8b7-5b02eb7ad8ac"
      },
      "outputs": [
        {
          "output_type": "stream",
          "name": "stdout",
          "text": [
            "shape: (9_723, 19)\n",
            "┌──────┬───────┬─────┬──────────┬───┬──────────┬──────┬────────┬─────────────────────────┐\n",
            "│ year ┆ month ┆ day ┆ dep_time ┆ … ┆ distance ┆ hour ┆ minute ┆ time_hour               │\n",
            "│ ---  ┆ ---   ┆ --- ┆ ---      ┆   ┆ ---      ┆ ---  ┆ ---    ┆ ---                     │\n",
            "│ i64  ┆ i64   ┆ i64 ┆ i64      ┆   ┆ i64      ┆ i64  ┆ i64    ┆ datetime[μs, UTC]       │\n",
            "╞══════╪═══════╪═════╪══════════╪═══╪══════════╪══════╪════════╪═════════════════════════╡\n",
            "│ 2013 ┆ 1     ┆ 1   ┆ 848      ┆ … ┆ 184      ┆ 18   ┆ 35     ┆ 2013-01-01 23:00:00 UTC │\n",
            "│ 2013 ┆ 1     ┆ 1   ┆ 957      ┆ … ┆ 200      ┆ 7    ┆ 33     ┆ 2013-01-01 12:00:00 UTC │\n",
            "│ 2013 ┆ 1     ┆ 1   ┆ 1114     ┆ … ┆ 1416     ┆ 9    ┆ 0      ┆ 2013-01-01 14:00:00 UTC │\n",
            "│ 2013 ┆ 1     ┆ 1   ┆ 1540     ┆ … ┆ 1598     ┆ 13   ┆ 38     ┆ 2013-01-01 18:00:00 UTC │\n",
            "│ 2013 ┆ 1     ┆ 1   ┆ 1815     ┆ … ┆ 1134     ┆ 13   ┆ 25     ┆ 2013-01-01 18:00:00 UTC │\n",
            "│ …    ┆ …     ┆ …   ┆ …        ┆ … ┆ …        ┆ …    ┆ …      ┆ …                       │\n",
            "│ 2013 ┆ 9     ┆ 30  ┆ 1823     ┆ … ┆ 765      ┆ 15   ┆ 45     ┆ 2013-09-30 19:00:00 UTC │\n",
            "│ 2013 ┆ 9     ┆ 30  ┆ 1951     ┆ … ┆ 708      ┆ 16   ┆ 49     ┆ 2013-09-30 20:00:00 UTC │\n",
            "│ 2013 ┆ 9     ┆ 30  ┆ 2053     ┆ … ┆ 746      ┆ 18   ┆ 15     ┆ 2013-09-30 22:00:00 UTC │\n",
            "│ 2013 ┆ 9     ┆ 30  ┆ 2159     ┆ … ┆ 301      ┆ 18   ┆ 45     ┆ 2013-09-30 22:00:00 UTC │\n",
            "│ 2013 ┆ 9     ┆ 30  ┆ 2235     ┆ … ┆ 944      ┆ 20   ┆ 1      ┆ 2013-10-01 00:00:00 UTC │\n",
            "└──────┴───────┴─────┴──────────┴───┴──────────┴──────┴────────┴─────────────────────────┘\n"
          ]
        }
      ],
      "source": [
        "# Write your SQL query here\n",
        "result = ctx.execute(\"\"\"\n",
        "SELECT *\n",
        "FROM flights\n",
        "WHERE dep_delay > 120\n",
        "\"\"\")\n",
        "\n",
        "print(result)"
      ]
    },
    {
      "cell_type": "markdown",
      "metadata": {
        "id": "Q_j52V529IFg"
      },
      "source": [
        "## Exercise 2: Aggregation\n",
        "\n",
        "### 2.1 Calculate the average departure delay for each origin airport"
      ]
    },
    {
      "cell_type": "code",
      "execution_count": 25,
      "metadata": {
        "id": "5XzfraP49IFg",
        "colab": {
          "base_uri": "https://localhost:8080/"
        },
        "outputId": "1f4fd127-56ea-4874-fdce-503622e3e64c"
      },
      "outputs": [
        {
          "output_type": "stream",
          "name": "stdout",
          "text": [
            "shape: (3, 2)\n",
            "┌────────┬───────────┐\n",
            "│ origin ┆ avg_delay │\n",
            "│ ---    ┆ ---       │\n",
            "│ str    ┆ f64       │\n",
            "╞════════╪═══════════╡\n",
            "│ LGA    ┆ 10.346876 │\n",
            "│ EWR    ┆ 15.107954 │\n",
            "│ JFK    ┆ 12.112159 │\n",
            "└────────┴───────────┘\n"
          ]
        }
      ],
      "source": [
        "# Write your SQL query here\n",
        "result = ctx.execute(\"\"\"\n",
        "SELECT origin, AVG(dep_delay) AS avg_delay\n",
        "FROM flights\n",
        "GROUP BY origin\n",
        "\"\"\")\n",
        "\n",
        "print(result)"
      ]
    },
    {
      "cell_type": "markdown",
      "metadata": {
        "id": "hkPB87ek9IFg"
      },
      "source": [
        "### 2.2 Find the busiest month of the year\n",
        "\n",
        "Count the number of flights per month and find which month has the most flights."
      ]
    },
    {
      "cell_type": "code",
      "execution_count": 29,
      "metadata": {
        "id": "HYg2QgGl9IFg",
        "colab": {
          "base_uri": "https://localhost:8080/"
        },
        "outputId": "eb16f9a4-82bd-4975-bab3-6e6bf586a05c"
      },
      "outputs": [
        {
          "output_type": "stream",
          "name": "stdout",
          "text": [
            "shape: (5, 19)\n",
            "┌──────┬───────┬─────┬──────────┬───┬──────────┬──────┬────────┬─────────────────────────┐\n",
            "│ year ┆ month ┆ day ┆ dep_time ┆ … ┆ distance ┆ hour ┆ minute ┆ time_hour               │\n",
            "│ ---  ┆ ---   ┆ --- ┆ ---      ┆   ┆ ---      ┆ ---  ┆ ---    ┆ ---                     │\n",
            "│ i64  ┆ i64   ┆ i64 ┆ i64      ┆   ┆ i64      ┆ i64  ┆ i64    ┆ datetime[μs, UTC]       │\n",
            "╞══════╪═══════╪═════╪══════════╪═══╪══════════╪══════╪════════╪═════════════════════════╡\n",
            "│ 2013 ┆ 1     ┆ 1   ┆ 517      ┆ … ┆ 1400     ┆ 5    ┆ 15     ┆ 2013-01-01 10:00:00 UTC │\n",
            "│ 2013 ┆ 1     ┆ 1   ┆ 533      ┆ … ┆ 1416     ┆ 5    ┆ 29     ┆ 2013-01-01 10:00:00 UTC │\n",
            "│ 2013 ┆ 1     ┆ 1   ┆ 542      ┆ … ┆ 1089     ┆ 5    ┆ 40     ┆ 2013-01-01 10:00:00 UTC │\n",
            "│ 2013 ┆ 1     ┆ 1   ┆ 544      ┆ … ┆ 1576     ┆ 5    ┆ 45     ┆ 2013-01-01 10:00:00 UTC │\n",
            "│ 2013 ┆ 1     ┆ 1   ┆ 554      ┆ … ┆ 762      ┆ 6    ┆ 0      ┆ 2013-01-01 11:00:00 UTC │\n",
            "└──────┴───────┴─────┴──────────┴───┴──────────┴──────┴────────┴─────────────────────────┘\n",
            "shape: (1, 2)\n",
            "┌───────┬──────────────┐\n",
            "│ month ┆ flight_count │\n",
            "│ ---   ┆ ---          │\n",
            "│ i64   ┆ u32          │\n",
            "╞═══════╪══════════════╡\n",
            "│ 7     ┆ 29425        │\n",
            "└───────┴──────────────┘\n"
          ]
        }
      ],
      "source": [
        "# First, let's check what columns are available\n",
        "result = ctx.execute(\"\"\"\n",
        "SELECT *\n",
        "FROM flights\n",
        "LIMIT 5\n",
        "\"\"\")\n",
        "print(result)\n",
        "\n",
        "# Now write your query to find busiest month\n",
        "result = ctx.execute(\"\"\"\n",
        "SELECT month, COUNT(*) AS flight_count\n",
        "FROM flights\n",
        "GROUP BY month\n",
        "ORDER BY flight_count DESC\n",
        "LIMIT 1\n",
        "\"\"\")\n",
        "\n",
        "print(result)"
      ]
    },
    {
      "cell_type": "markdown",
      "metadata": {
        "id": "03pYiVsc9IFg"
      },
      "source": [
        "### 2.3 Calculate the on-time performance rate for each carrier\n",
        "\n",
        "Consider a flight on-time if the departure delay is <= 15 minutes."
      ]
    },
    {
      "cell_type": "code",
      "execution_count": 30,
      "metadata": {
        "id": "MkFAu95v9IFh",
        "colab": {
          "base_uri": "https://localhost:8080/"
        },
        "outputId": "dd51920e-0f5e-4c60-cc2d-04ea2ee6ab75"
      },
      "outputs": [
        {
          "output_type": "stream",
          "name": "stdout",
          "text": [
            "shape: (16, 2)\n",
            "┌─────────┬─────────────┐\n",
            "│ carrier ┆ ontime_rate │\n",
            "│ ---     ┆ ---         │\n",
            "│ str     ┆ f64         │\n",
            "╞═════════╪═════════════╡\n",
            "│ OO      ┆ 0.71875     │\n",
            "│ WN      ┆ 0.719593    │\n",
            "│ HA      ┆ 0.929825    │\n",
            "│ AS      ┆ 0.865546    │\n",
            "│ US      ┆ 0.849873    │\n",
            "│ …       ┆ …           │\n",
            "│ UA      ┆ 0.780431    │\n",
            "│ 9E      ┆ 0.701246    │\n",
            "│ YV      ┆ 0.647255    │\n",
            "│ VX      ┆ 0.821       │\n",
            "│ MQ      ┆ 0.751714    │\n",
            "└─────────┴─────────────┘\n"
          ]
        }
      ],
      "source": [
        "# Write your SQL query here\n",
        "result = ctx.execute(\"\"\"\n",
        "SELECT carrier,\n",
        "       AVG(CASE WHEN dep_delay <= 15 THEN 1 ELSE 0 END) AS ontime_rate\n",
        "FROM flights\n",
        "GROUP BY carrier\n",
        "\"\"\")\n",
        "\n",
        "print(result)"
      ]
    },
    {
      "cell_type": "markdown",
      "metadata": {
        "id": "alnLrrgr9IFh"
      },
      "source": [
        "## Exercise 3: Joins\n",
        "\n",
        "### 3.1 List all flights with their airline names (not just carrier codes)\n",
        "\n",
        "Show the first 20 flights with carrier code, airline name, flight number, origin, and destination."
      ]
    },
    {
      "cell_type": "code",
      "execution_count": 32,
      "metadata": {
        "id": "0wdOJMUS9IFh",
        "colab": {
          "base_uri": "https://localhost:8080/"
        },
        "outputId": "28ff9f84-838f-4dde-87ab-780735a9faae"
      },
      "outputs": [
        {
          "output_type": "stream",
          "name": "stdout",
          "text": [
            "shape: (20, 5)\n",
            "┌─────────┬────────────────────────┬────────┬────────┬──────┐\n",
            "│ carrier ┆ airline_name           ┆ flight ┆ origin ┆ dest │\n",
            "│ ---     ┆ ---                    ┆ ---    ┆ ---    ┆ ---  │\n",
            "│ str     ┆ str                    ┆ i64    ┆ str    ┆ str  │\n",
            "╞═════════╪════════════════════════╪════════╪════════╪══════╡\n",
            "│ UA      ┆ United Air Lines Inc.  ┆ 1545   ┆ EWR    ┆ IAH  │\n",
            "│ UA      ┆ United Air Lines Inc.  ┆ 1714   ┆ LGA    ┆ IAH  │\n",
            "│ AA      ┆ American Airlines Inc. ┆ 1141   ┆ JFK    ┆ MIA  │\n",
            "│ B6      ┆ JetBlue Airways        ┆ 725    ┆ JFK    ┆ BQN  │\n",
            "│ DL      ┆ Delta Air Lines Inc.   ┆ 461    ┆ LGA    ┆ ATL  │\n",
            "│ …       ┆ …                      ┆ …      ┆ …      ┆ …    │\n",
            "│ B6      ┆ JetBlue Airways        ┆ 1806   ┆ JFK    ┆ BOS  │\n",
            "│ UA      ┆ United Air Lines Inc.  ┆ 1187   ┆ EWR    ┆ LAS  │\n",
            "│ B6      ┆ JetBlue Airways        ┆ 371    ┆ LGA    ┆ FLL  │\n",
            "│ MQ      ┆ Envoy Air              ┆ 4650   ┆ LGA    ┆ ATL  │\n",
            "│ B6      ┆ JetBlue Airways        ┆ 343    ┆ EWR    ┆ PBI  │\n",
            "└─────────┴────────────────────────┴────────┴────────┴──────┘\n"
          ]
        }
      ],
      "source": [
        "# Write your SQL query here\n",
        "result = ctx.execute(\"\"\"\n",
        "SELECT f.carrier, a.name AS airline_name, f.flight, f.origin, f.dest\n",
        "FROM flights AS f\n",
        "JOIN airlines AS a ON f.carrier = a.carrier\n",
        "LIMIT 20\n",
        "\"\"\")\n",
        "\n",
        "print(result)"
      ]
    },
    {
      "cell_type": "markdown",
      "metadata": {
        "id": "2HZ149VD9IFh"
      },
      "source": [
        "### 3.2 Find the average age of planes for each carrier\n",
        "\n",
        "Hint: The planes table has a `year` column for manufacture year. Calculate age based on 2013."
      ]
    },
    {
      "cell_type": "code",
      "execution_count": 33,
      "metadata": {
        "id": "BOyTIPIz9IFh",
        "colab": {
          "base_uri": "https://localhost:8080/"
        },
        "outputId": "01459971-70c9-4ac1-a430-1509565ba1cc"
      },
      "outputs": [
        {
          "output_type": "stream",
          "name": "stdout",
          "text": [
            "shape: (16, 2)\n",
            "┌─────────┬───────────┐\n",
            "│ carrier ┆ avg_age   │\n",
            "│ ---     ┆ ---       │\n",
            "│ str     ┆ f64       │\n",
            "╞═════════╪═══════════╡\n",
            "│ 9E      ┆ 7.101053  │\n",
            "│ DL      ┆ 16.372169 │\n",
            "│ WN      ┆ 9.146052  │\n",
            "│ YV      ┆ 9.313758  │\n",
            "│ US      ┆ 9.103663  │\n",
            "│ …       ┆ …         │\n",
            "│ VX      ┆ 4.473643  │\n",
            "│ F9      ┆ 4.87874   │\n",
            "│ OO      ┆ 6.84375   │\n",
            "│ HA      ┆ 1.548387  │\n",
            "│ AS      ┆ 3.33662   │\n",
            "└─────────┴───────────┘\n"
          ]
        }
      ],
      "source": [
        "# Write your SQL query here\n",
        "result = ctx.execute(\"\"\"\n",
        "SELECT f.carrier, AVG(2013 - p.year) AS avg_age\n",
        "FROM flights AS f\n",
        "JOIN planes AS p ON f.tailnum = p.tailnum\n",
        "WHERE p.year IS NOT NULL\n",
        "GROUP BY f.carrier\n",
        "\"\"\")\n",
        "\n",
        "print(result)"
      ]
    },
    {
      "cell_type": "markdown",
      "metadata": {
        "id": "EwebZVuv9IFh"
      },
      "source": [
        "### 3.3 Find flights that experienced both departure delays and bad weather\n",
        "\n",
        "Join flights with weather data and find flights where departure delay > 30 minutes and either wind_speed > 20 or precip > 0.1"
      ]
    },
    {
      "cell_type": "code",
      "execution_count": 34,
      "metadata": {
        "id": "2Qqja3ZT9IFh",
        "colab": {
          "base_uri": "https://localhost:8080/"
        },
        "outputId": "bf6cd6dc-4631-4ed5-e254-4d5f8b8a89f0"
      },
      "outputs": [
        {
          "output_type": "stream",
          "name": "stdout",
          "text": [
            "shape: (5, 15)\n",
            "┌────────┬──────┬───────┬─────┬───┬────────┬──────────┬───────┬─────────────────────────┐\n",
            "│ origin ┆ year ┆ month ┆ day ┆ … ┆ precip ┆ pressure ┆ visib ┆ time_hour               │\n",
            "│ ---    ┆ ---  ┆ ---   ┆ --- ┆   ┆ ---    ┆ ---      ┆ ---   ┆ ---                     │\n",
            "│ str    ┆ i64  ┆ i64   ┆ i64 ┆   ┆ f64    ┆ f64      ┆ f64   ┆ datetime[μs, UTC]       │\n",
            "╞════════╪══════╪═══════╪═════╪═══╪════════╪══════════╪═══════╪═════════════════════════╡\n",
            "│ EWR    ┆ 2013 ┆ 1     ┆ 1   ┆ … ┆ 0.0    ┆ 1012.0   ┆ 10.0  ┆ 2013-01-01 06:00:00 UTC │\n",
            "│ EWR    ┆ 2013 ┆ 1     ┆ 1   ┆ … ┆ 0.0    ┆ 1012.3   ┆ 10.0  ┆ 2013-01-01 07:00:00 UTC │\n",
            "│ EWR    ┆ 2013 ┆ 1     ┆ 1   ┆ … ┆ 0.0    ┆ 1012.5   ┆ 10.0  ┆ 2013-01-01 08:00:00 UTC │\n",
            "│ EWR    ┆ 2013 ┆ 1     ┆ 1   ┆ … ┆ 0.0    ┆ 1012.2   ┆ 10.0  ┆ 2013-01-01 09:00:00 UTC │\n",
            "│ EWR    ┆ 2013 ┆ 1     ┆ 1   ┆ … ┆ 0.0    ┆ 1011.9   ┆ 10.0  ┆ 2013-01-01 10:00:00 UTC │\n",
            "└────────┴──────┴───────┴─────┴───┴────────┴──────────┴───────┴─────────────────────────┘\n",
            "shape: (4_938, 5)\n",
            "┌────────┬────────┬───────────┬────────────┬────────┐\n",
            "│ flight ┆ origin ┆ dep_delay ┆ wind_speed ┆ precip │\n",
            "│ ---    ┆ ---    ┆ ---       ┆ ---        ┆ ---    │\n",
            "│ i64    ┆ str    ┆ i64       ┆ f64        ┆ f64    │\n",
            "╞════════╪════════╪═══════════╪════════════╪════════╡\n",
            "│ 21     ┆ JFK    ┆ 47        ┆ 21.86482   ┆ 0.0    │\n",
            "│ 199    ┆ JFK    ┆ 116       ┆ 21.86482   ┆ 0.0    │\n",
            "│ 4090   ┆ EWR    ┆ 39        ┆ 20.71404   ┆ 0.0    │\n",
            "│ 4231   ┆ EWR    ┆ 40        ┆ 24.16638   ┆ 0.0    │\n",
            "│ 1010   ┆ JFK    ┆ 33        ┆ 20.71404   ┆ 0.0    │\n",
            "│ …      ┆ …      ┆ …         ┆ …          ┆ …      │\n",
            "│ 2347   ┆ LGA    ┆ 41        ┆ 20.71404   ┆ 0.0    │\n",
            "│ 5503   ┆ LGA    ┆ 97        ┆ 20.71404   ┆ 0.0    │\n",
            "│ 135    ┆ JFK    ┆ 42        ┆ 21.86482   ┆ 0.0    │\n",
            "│ 797    ┆ JFK    ┆ 46        ┆ 21.86482   ┆ 0.0    │\n",
            "│ 985    ┆ JFK    ┆ 45        ┆ 21.86482   ┆ 0.0    │\n",
            "└────────┴────────┴───────────┴────────────┴────────┘\n"
          ]
        }
      ],
      "source": [
        "# First, explore the weather table structure\n",
        "result = ctx.execute(\"\"\"\n",
        "    SELECT *\n",
        "    FROM weather\n",
        "    LIMIT 5\n",
        "\"\"\")\n",
        "print(result)\n",
        "\n",
        "# Now write your join query\n",
        "result = ctx.execute(\"\"\"\n",
        "SELECT f.flight, f.origin, f.dep_delay, w.wind_speed, w.precip\n",
        "FROM flights AS f\n",
        "JOIN weather AS w\n",
        "ON f.origin = w.origin\n",
        "AND f.time_hour = w.time_hour\n",
        "WHERE f.dep_delay > 30\n",
        "AND (w.wind_speed > 20 OR w.precip > 0.1)\n",
        "\"\"\")\n",
        "\n",
        "print(result)"
      ]
    },
    {
      "cell_type": "markdown",
      "metadata": {
        "id": "i1O3lD5Y9IFh"
      },
      "source": [
        "## Exercise 4: Advanced Queries\n",
        "\n",
        "### 4.1 Find the most popular aircraft types (by number of flights)\n",
        "\n",
        "Join flights with planes to get manufacturer and model information. Show top 10."
      ]
    },
    {
      "cell_type": "code",
      "execution_count": 35,
      "metadata": {
        "id": "d2TtNvKd9IFh",
        "colab": {
          "base_uri": "https://localhost:8080/"
        },
        "outputId": "3ac576cf-668f-45af-ba99-97eac012fded"
      },
      "outputs": [
        {
          "output_type": "stream",
          "name": "stdout",
          "text": [
            "shape: (10, 3)\n",
            "┌───────────────────────────────┬─────────────────┬──────────────┐\n",
            "│ manufacturer                  ┆ model           ┆ flight_count │\n",
            "│ ---                           ┆ ---             ┆ ---          │\n",
            "│ str                           ┆ str             ┆ u32          │\n",
            "╞═══════════════════════════════╪═════════════════╪══════════════╡\n",
            "│ AIRBUS                        ┆ A320-232        ┆ 31278        │\n",
            "│ EMBRAER                       ┆ EMB-145LR       ┆ 28027        │\n",
            "│ EMBRAER                       ┆ ERJ 190-100 IGW ┆ 23716        │\n",
            "│ AIRBUS INDUSTRIE              ┆ A320-232        ┆ 14553        │\n",
            "│ EMBRAER                       ┆ EMB-145XR       ┆ 14051        │\n",
            "│ BOEING                        ┆ 737-824         ┆ 13809        │\n",
            "│ BOMBARDIER INC                ┆ CL-600-2D24     ┆ 11807        │\n",
            "│ BOEING                        ┆ 737-7H4         ┆ 10389        │\n",
            "│ BOEING                        ┆ 757-222         ┆ 9150         │\n",
            "│ MCDONNELL DOUGLAS AIRCRAFT CO ┆ MD-88           ┆ 8932         │\n",
            "└───────────────────────────────┴─────────────────┴──────────────┘\n"
          ]
        }
      ],
      "source": [
        "# Write your SQL query here\n",
        "result = ctx.execute(\"\"\"\n",
        "SELECT p.manufacturer, p.model,\n",
        "COUNT(*) AS flight_count\n",
        "FROM flights AS f\n",
        "JOIN planes AS p\n",
        "ON f.tailnum = p.tailnum\n",
        "GROUP BY p.manufacturer, p.model\n",
        "ORDER BY flight_count DESC\n",
        "LIMIT 10\n",
        "\"\"\")\n",
        "\n",
        "print(result)"
      ]
    },
    {
      "cell_type": "markdown",
      "metadata": {
        "id": "fGpXJMtC9IFh"
      },
      "source": [
        "### 4.2 Analyze route performance\n",
        "\n",
        "Find the top 10 routes (origin-destination pairs) with:\n",
        "- Total number of flights\n",
        "- Average departure delay\n",
        "- Percentage of flights delayed more than 30 minutes\n",
        "\n",
        "Include airport names, not just codes."
      ]
    },
    {
      "cell_type": "code",
      "execution_count": 43,
      "metadata": {
        "id": "cOiBND259IFi",
        "colab": {
          "base_uri": "https://localhost:8080/"
        },
        "outputId": "594e4dcd-7b2a-4dda-869d-af0d92340809"
      },
      "outputs": [
        {
          "output_type": "stream",
          "name": "stdout",
          "text": [
            "shape: (10, 7)\n",
            "┌────────┬────────────────┬──────┬────────────────┬───────────────┬────────────────┬───────────────┐\n",
            "│ origin ┆ origin_airport ┆ dest ┆ destination_ai ┆ total_flights ┆ average_dep_de ┆ percentage_de │\n",
            "│ ---    ┆ ---            ┆ ---  ┆ rport          ┆ ---           ┆ lay            ┆ layed_more_th │\n",
            "│ str    ┆ str            ┆ str  ┆ ---            ┆ u32           ┆ ---            ┆ an_3…         │\n",
            "│        ┆                ┆      ┆ str            ┆               ┆ f64            ┆ ---           │\n",
            "│        ┆                ┆      ┆                ┆               ┆                ┆ f64           │\n",
            "╞════════╪════════════════╪══════╪════════════════╪═══════════════╪════════════════╪═══════════════╡\n",
            "│ JFK    ┆ John F Kennedy ┆ LAX  ┆ Los Angeles    ┆ 11262         ┆ 8.522508       ┆ 9.829515      │\n",
            "│        ┆ Intl           ┆      ┆ Intl           ┆               ┆                ┆               │\n",
            "│ LGA    ┆ La Guardia     ┆ ATL  ┆ Hartsfield     ┆ 10263         ┆ 11.448621      ┆ 12.247881     │\n",
            "│        ┆                ┆      ┆ Jackson        ┆               ┆                ┆               │\n",
            "│        ┆                ┆      ┆ Atlanta Int…   ┆               ┆                ┆               │\n",
            "│ LGA    ┆ La Guardia     ┆ ORD  ┆ Chicago Ohare  ┆ 8857          ┆ 10.740758      ┆ 13.345377     │\n",
            "│        ┆                ┆      ┆ Intl           ┆               ┆                ┆               │\n",
            "│ JFK    ┆ John F Kennedy ┆ SFO  ┆ San Francisco  ┆ 8204          ┆ 11.952691      ┆ 12.116041     │\n",
            "│        ┆ Intl           ┆      ┆ Intl           ┆               ┆                ┆               │\n",
            "│ LGA    ┆ La Guardia     ┆ CLT  ┆ Charlotte      ┆ 6168          ┆ 8.965321       ┆ 11.948768     │\n",
            "│        ┆                ┆      ┆ Douglas Intl   ┆               ┆                ┆               │\n",
            "│ EWR    ┆ Newark Liberty ┆ ORD  ┆ Chicago Ohare  ┆ 6100          ┆ 14.644163      ┆ 16.0          │\n",
            "│        ┆ Intl           ┆      ┆ Intl           ┆               ┆                ┆               │\n",
            "│ JFK    ┆ John F Kennedy ┆ BOS  ┆ General Edward ┆ 5898          ┆ 11.694953      ┆ 13.767379     │\n",
            "│        ┆ Intl           ┆      ┆ Lawrence Logan ┆               ┆                ┆               │\n",
            "│        ┆                ┆      ┆ …              ┆               ┆                ┆               │\n",
            "│ LGA    ┆ La Guardia     ┆ MIA  ┆ Miami Intl     ┆ 5781          ┆ 7.361747       ┆ 9.462031      │\n",
            "│ JFK    ┆ John F Kennedy ┆ MCO  ┆ Orlando Intl   ┆ 5464          ┆ 10.601583      ┆ 12.719619     │\n",
            "│        ┆ Intl           ┆      ┆                ┆               ┆                ┆               │\n",
            "│ EWR    ┆ Newark Liberty ┆ BOS  ┆ General Edward ┆ 5327          ┆ 12.54561       ┆ 14.9052       │\n",
            "│        ┆ Intl           ┆      ┆ Lawrence Logan ┆               ┆                ┆               │\n",
            "│        ┆                ┆      ┆ …              ┆               ┆                ┆               │\n",
            "└────────┴────────────────┴──────┴────────────────┴───────────────┴────────────────┴───────────────┘\n"
          ]
        }
      ],
      "source": [
        "# Write your SQL query here\n",
        "result = ctx.execute(\"\"\"\n",
        "WITH RouteStats AS (\n",
        "    SELECT\n",
        "        origin,\n",
        "        dest,\n",
        "        COUNT(*) AS total_flights,\n",
        "        AVG(dep_delay) AS average_dep_delay,\n",
        "        CAST(SUM(CASE WHEN dep_delay > 30 THEN 1 ELSE 0 END) AS FLOAT) * 100 / COUNT(*) AS percentage_delayed_more_than_30\n",
        "    FROM\n",
        "        flights\n",
        "    GROUP BY\n",
        "        origin,\n",
        "        dest\n",
        ")\n",
        "SELECT\n",
        "    rs.origin,\n",
        "    o.name AS origin_airport,\n",
        "    rs.dest,\n",
        "    d.name AS destination_airport,\n",
        "    rs.total_flights,\n",
        "    rs.average_dep_delay,\n",
        "    rs.percentage_delayed_more_than_30\n",
        "FROM\n",
        "    RouteStats AS rs\n",
        "JOIN\n",
        "    airports AS o ON rs.origin = o.faa\n",
        "JOIN\n",
        "    airports AS d ON rs.dest = d.faa\n",
        "ORDER BY\n",
        "    rs.total_flights DESC\n",
        "LIMIT 10\n",
        "\n",
        "\"\"\")\n",
        "\n",
        "print(result)"
      ]
    },
    {
      "cell_type": "markdown",
      "metadata": {
        "id": "eDSDOwUb9IFi"
      },
      "source": [
        "## Bonus: Compare with Polars\n",
        "\n",
        "### Choose one of the queries above and implement it using Polars\n",
        "\n",
        "This will help you understand the relationship between SQL and Polars operations."
      ]
    },
    {
      "cell_type": "code",
      "execution_count": 9,
      "metadata": {
        "id": "HQAwy0Y69IFi",
        "colab": {
          "base_uri": "https://localhost:8080/"
        },
        "outputId": "6948076d-9684-40c1-de30-7bec3e26f3df"
      },
      "outputs": [
        {
          "output_type": "stream",
          "name": "stdout",
          "text": [
            "SQL Result (Exercise 2.1):\n",
            "shape: (3, 2)\n",
            "┌────────┬───────────┐\n",
            "│ origin ┆ avg_delay │\n",
            "│ ---    ┆ ---       │\n",
            "│ str    ┆ f64       │\n",
            "╞════════╪═══════════╡\n",
            "│ EWR    ┆ 15.107954 │\n",
            "│ JFK    ┆ 12.112159 │\n",
            "│ LGA    ┆ 10.346876 │\n",
            "└────────┴───────────┘\n",
            "\n",
            "Polars Result (Exercise 2.1):\n",
            "shape: (3, 2)\n",
            "┌────────┬───────────┐\n",
            "│ origin ┆ avg_delay │\n",
            "│ ---    ┆ ---       │\n",
            "│ str    ┆ f64       │\n",
            "╞════════╪═══════════╡\n",
            "│ EWR    ┆ 15.107954 │\n",
            "│ JFK    ┆ 12.112159 │\n",
            "│ LGA    ┆ 10.346876 │\n",
            "└────────┴───────────┘\n",
            "\n",
            "---\n",
            "Polars implementation for Exercise 3.2: Average age of planes for each carrier\n",
            "SQL Result (Exercise 3.2):\n",
            "shape: (16, 2)\n",
            "┌─────────┬───────────────────┐\n",
            "│ carrier ┆ average_plane_age │\n",
            "│ ---     ┆ ---               │\n",
            "│ str     ┆ f64               │\n",
            "╞═════════╪═══════════════════╡\n",
            "│ MQ      ┆ 35.319            │\n",
            "│ AA      ┆ 25.869426         │\n",
            "│ DL      ┆ 16.372169         │\n",
            "│ UA      ┆ 13.207691         │\n",
            "│ FL      ┆ 11.385829         │\n",
            "│ …       ┆ …                 │\n",
            "│ B6      ┆ 6.686702          │\n",
            "│ F9      ┆ 4.87874           │\n",
            "│ VX      ┆ 4.473643          │\n",
            "│ AS      ┆ 3.33662           │\n",
            "│ HA      ┆ 1.548387          │\n",
            "└─────────┴───────────────────┘\n",
            "\n",
            "Polars Result (Exercise 3.2):\n",
            "shape: (16, 2)\n",
            "┌─────────┬───────────────────┐\n",
            "│ carrier ┆ average_plane_age │\n",
            "│ ---     ┆ ---               │\n",
            "│ str     ┆ f64               │\n",
            "╞═════════╪═══════════════════╡\n",
            "│ B6      ┆ 0.0               │\n",
            "│ VX      ┆ 0.0               │\n",
            "│ DL      ┆ 0.0               │\n",
            "│ 9E      ┆ 0.0               │\n",
            "│ AS      ┆ 0.0               │\n",
            "│ …       ┆ …                 │\n",
            "│ WN      ┆ 0.0               │\n",
            "│ FL      ┆ 0.0               │\n",
            "│ AA      ┆ 0.0               │\n",
            "│ YV      ┆ 0.0               │\n",
            "│ F9      ┆ 0.0               │\n",
            "└─────────┴───────────────────┘\n",
            "\n",
            "---\n",
            "Polars implementation for Exercise 3.3: Flights with departure delays and bad weather\n",
            "SQL Result (Exercise 3.3):\n",
            "shape: (4_938, 5)\n",
            "┌────────┬────────┬───────────┬────────────┬────────┐\n",
            "│ flight ┆ origin ┆ dep_delay ┆ wind_speed ┆ precip │\n",
            "│ ---    ┆ ---    ┆ ---       ┆ ---        ┆ ---    │\n",
            "│ i64    ┆ str    ┆ i64       ┆ f64        ┆ f64    │\n",
            "╞════════╪════════╪═══════════╪════════════╪════════╡\n",
            "│ 21     ┆ JFK    ┆ 47        ┆ 21.86482   ┆ 0.0    │\n",
            "│ 199    ┆ JFK    ┆ 116       ┆ 21.86482   ┆ 0.0    │\n",
            "│ 4090   ┆ EWR    ┆ 39        ┆ 20.71404   ┆ 0.0    │\n",
            "│ 4231   ┆ EWR    ┆ 40        ┆ 24.16638   ┆ 0.0    │\n",
            "│ 1010   ┆ JFK    ┆ 33        ┆ 20.71404   ┆ 0.0    │\n",
            "│ …      ┆ …      ┆ …         ┆ …          ┆ …      │\n",
            "│ 2347   ┆ LGA    ┆ 41        ┆ 20.71404   ┆ 0.0    │\n",
            "│ 5503   ┆ LGA    ┆ 97        ┆ 20.71404   ┆ 0.0    │\n",
            "│ 135    ┆ JFK    ┆ 42        ┆ 21.86482   ┆ 0.0    │\n",
            "│ 797    ┆ JFK    ┆ 46        ┆ 21.86482   ┆ 0.0    │\n",
            "│ 985    ┆ JFK    ┆ 45        ┆ 21.86482   ┆ 0.0    │\n",
            "└────────┴────────┴───────────┴────────────┴────────┘\n",
            "\n",
            "Polars Result (Exercise 3.3):\n",
            "shape: (4_938, 5)\n",
            "┌────────┬────────┬───────────┬────────────┬────────┐\n",
            "│ flight ┆ origin ┆ dep_delay ┆ wind_speed ┆ precip │\n",
            "│ ---    ┆ ---    ┆ ---       ┆ ---        ┆ ---    │\n",
            "│ i64    ┆ str    ┆ i64       ┆ f64        ┆ f64    │\n",
            "╞════════╪════════╪═══════════╪════════════╪════════╡\n",
            "│ 21     ┆ JFK    ┆ 47        ┆ 21.86482   ┆ 0.0    │\n",
            "│ 199    ┆ JFK    ┆ 116       ┆ 21.86482   ┆ 0.0    │\n",
            "│ 4090   ┆ EWR    ┆ 39        ┆ 20.71404   ┆ 0.0    │\n",
            "│ 4231   ┆ EWR    ┆ 40        ┆ 24.16638   ┆ 0.0    │\n",
            "│ 1010   ┆ JFK    ┆ 33        ┆ 20.71404   ┆ 0.0    │\n",
            "│ …      ┆ …      ┆ …         ┆ …          ┆ …      │\n",
            "│ 2347   ┆ LGA    ┆ 41        ┆ 20.71404   ┆ 0.0    │\n",
            "│ 5503   ┆ LGA    ┆ 97        ┆ 20.71404   ┆ 0.0    │\n",
            "│ 135    ┆ JFK    ┆ 42        ┆ 21.86482   ┆ 0.0    │\n",
            "│ 797    ┆ JFK    ┆ 46        ┆ 21.86482   ┆ 0.0    │\n",
            "│ 985    ┆ JFK    ┆ 45        ┆ 21.86482   ┆ 0.0    │\n",
            "└────────┴────────┴───────────┴────────────┴────────┘\n"
          ]
        }
      ],
      "source": [
        "# Example: Let's implement Exercise 2.1 (average delay by origin) in Polars\n",
        "\n",
        "# SQL version (for reference)\n",
        "sql_result_2_1 = ctx.execute(\"\"\"\n",
        "    SELECT\n",
        "        origin,\n",
        "        AVG(dep_delay) as avg_delay\n",
        "    FROM flights\n",
        "    WHERE dep_delay IS NOT NULL\n",
        "    GROUP BY origin\n",
        "    ORDER BY avg_delay DESC\n",
        "\"\"\")\n",
        "\n",
        "# Polars version\n",
        "polars_result_2_1 = (\n",
        "    flights\n",
        "    .filter(pl.col('dep_delay').is_not_null())\n",
        "    .group_by('origin')\n",
        "    .agg(pl.col('dep_delay').mean().alias('avg_delay'))\n",
        "    .sort('avg_delay', descending=True)\n",
        ")\n",
        "\n",
        "print(\"SQL Result (Exercise 2.1):\")\n",
        "print(sql_result_2_1)\n",
        "print(\"\\nPolars Result (Exercise 2.1):\")\n",
        "print(polars_result_2_1)\n",
        "\n",
        "# Now implement one of your own queries in Polars below:\n",
        "# Polars implementation for Exercise 3.2: Average age of planes for each carrier\n",
        "print(\"\\n---\")\n",
        "print(\"Polars implementation for Exercise 3.2: Average age of planes for each carrier\")\n",
        "\n",
        "# SQL version (for reference)\n",
        "sql_result_3_2 = ctx.execute(\"\"\"\n",
        "SELECT\n",
        "    f.carrier,\n",
        "    AVG(2013 - p.year) AS average_plane_age\n",
        "FROM\n",
        "    flights AS f\n",
        "JOIN\n",
        "    planes AS p ON f.tailnum = p.tailnum\n",
        "WHERE\n",
        "    p.year IS NOT NULL\n",
        "GROUP BY\n",
        "    f.carrier\n",
        "ORDER BY\n",
        "    average_plane_age DESC\n",
        "\"\"\")\n",
        "\n",
        "# Polars version\n",
        "polars_result_3_2 = (\n",
        "    flights\n",
        "    .join(planes, on=\"tailnum\", how=\"inner\")\n",
        "    .filter(pl.col(\"year\").is_not_null())\n",
        "    .with_columns((2013 - pl.col(\"year\")).alias(\"plane_age\"))\n",
        "    .group_by(\"carrier\")\n",
        "    .agg(pl.col(\"plane_age\").mean().alias(\"average_plane_age\"))\n",
        "    .sort(\"average_plane_age\", descending=True)\n",
        ")\n",
        "\n",
        "print(\"SQL Result (Exercise 3.2):\")\n",
        "print(sql_result_3_2)\n",
        "print(\"\\nPolars Result (Exercise 3.2):\")\n",
        "print(polars_result_3_2)\n",
        "\n",
        "# Polars implementation for Exercise 3.3: Flights with departure delays and bad weather\n",
        "print(\"\\n---\")\n",
        "print(\"Polars implementation for Exercise 3.3: Flights with departure delays and bad weather\")\n",
        "\n",
        "# SQL version (for reference)\n",
        "sql_result_3_3 = ctx.execute(\"\"\"\n",
        "SELECT f.flight, f.origin, f.dep_delay, w.wind_speed, w.precip\n",
        "FROM flights AS f\n",
        "JOIN weather AS w\n",
        "ON f.origin = w.origin\n",
        "AND f.time_hour = w.time_hour\n",
        "WHERE f.dep_delay > 30\n",
        "AND (w.wind_speed > 20 OR w.precip > 0.1)\n",
        "\"\"\")\n",
        "\n",
        "# Polars version\n",
        "polars_result_3_3 = (\n",
        "    flights\n",
        "    .join(weather, on=[\"origin\", \"time_hour\"], how=\"inner\")\n",
        "    .filter(\n",
        "        (pl.col(\"dep_delay\") > 30) &\n",
        "        ((pl.col(\"wind_speed\") > 20) | (pl.col(\"precip\") > 0.1))\n",
        "    )\n",
        "    .select([\"flight\", \"origin\", \"dep_delay\", \"wind_speed\", \"precip\"])\n",
        ")\n",
        "\n",
        "\n",
        "print(\"SQL Result (Exercise 3.3):\")\n",
        "print(sql_result_3_3)\n",
        "print(\"\\nPolars Result (Exercise 3.3):\")\n",
        "print(polars_result_3_3)"
      ]
    }
  ],
  "metadata": {
    "kernelspec": {
      "display_name": "Python 3",
      "language": "python",
      "name": "python3"
    },
    "language_info": {
      "codemirror_mode": {
        "name": "ipython",
        "version": 3
      },
      "file_extension": ".py",
      "mimetype": "text/x-python",
      "name": "python",
      "nbconvert_exporter": "python",
      "pygments_lexer": "ipython3",
      "version": "3.8.0"
    },
    "colab": {
      "provenance": []
    }
  },
  "nbformat": 4,
  "nbformat_minor": 0
}